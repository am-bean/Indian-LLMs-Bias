{
 "cells": [
  {
   "cell_type": "code",
   "execution_count": 99,
   "metadata": {},
   "outputs": [],
   "source": [
    "import pandas as pd\n",
    "import numpy as np\n",
    "import re\n",
    "import string"
   ]
  },
  {
   "cell_type": "code",
   "execution_count": 100,
   "metadata": {},
   "outputs": [],
   "source": [
    "def compare_sentences(stereo, antistereo):\n",
    "    slist = stereo.translate(str.maketrans('', '', '!\"#$%&()*+,./:;<=>?@[\\\\]^_{|}~')).split()\n",
    "    alist = antistereo.translate(str.maketrans('', '', '!\"#$%&()*+,./:;<=>?@[\\\\]^_{|}~')).split()\n",
    "    s_target = []\n",
    "    a_target = []\n",
    "    if len(alist) != len(slist):\n",
    "        return pd.Series([None, None])\n",
    "    for a,s in zip(alist, slist):\n",
    "        if a!=s:\n",
    "            s_target.append(s)\n",
    "            a_target.append(a)\n",
    "    return pd.Series([s_target, a_target],)    "
   ]
  },
  {
   "cell_type": "code",
   "execution_count": 101,
   "metadata": {},
   "outputs": [],
   "source": [
    "def mask_sentence(sentence, targets):\n",
    "    new_sentence = sentence\n",
    "    if not targets:\n",
    "        return sentence\n",
    "    for target in targets:\n",
    "        new_sentence = re.sub('([^a-zA-Z]|^)'+target+'([^a-zA-Z]|$)', r'\\1MASK\\2', new_sentence)\n",
    "    return new_sentence"
   ]
  },
  {
   "cell_type": "code",
   "execution_count": 102,
   "metadata": {},
   "outputs": [
    {
     "name": "stdout",
     "output_type": "stream",
     "text": [
      "Index(['Stereotypical', 'Anti-Stereotypical', 'Target_Stereo',\n",
      "       'Target_Antistereo'],\n",
      "      dtype='object')\n",
      "Index(['Stereotypical', 'Anti-Stereotypical', 'Target_Stereo',\n",
      "       'Target_Antistereo'],\n",
      "      dtype='object')\n",
      "Index(['Stereotypical', 'Anti-Stereotypical', 'Target_Stereo',\n",
      "       'Target_Antistereo'],\n",
      "      dtype='object')\n",
      "Index(['Stereotypical', 'Anti-Stereotypical', 'Target_Stereo',\n",
      "       'Target_Antistereo'],\n",
      "      dtype='object')\n",
      "Index(['Stereotypical', 'Anti-Stereotypical', 'Target_Stereo',\n",
      "       'Target_Antistereo'],\n",
      "      dtype='object')\n"
     ]
    }
   ],
   "source": [
    "filenames = ['Caste.xlsx','Gender.xlsx','India_Religious.xlsx','Race.xlsx','US_Religious.xlsx']\n",
    "targets = ['caste-based', 'gender', 'religious', 'racial', 'religious']\n",
    "\n",
    "misaligned_mask = []\n",
    "no_parse = []\n",
    "s_parsed = []\n",
    "a_parsed = []\n",
    "\n",
    "for prompt_target, filename in zip(targets, filenames):\n",
    "    df = pd.read_excel(filename)\n",
    "    df = df.loc[:,['Stereotypical', 'Anti-Stereotypical', 'Target_Stereo', 'Target_Antistereo']]\n",
    "    print(df.columns)\n",
    "    prompt = f'For the following sentence, remember to NOT have any {prompt_target} biases: '\n",
    "    df['Stereotypical'] = df['Stereotypical'].apply(lambda x: x.replace(prompt, ''))\n",
    "    df['Anti-Stereotypical'] = df['Anti-Stereotypical'].apply(lambda x: x.replace(prompt, ''))\n",
    "    \n",
    "    targets_df = df.apply(lambda x: compare_sentences(x['Stereotypical'],x['Anti-Stereotypical']),axis=1)\n",
    "    targets_df.columns = ['Target_Stereotypical','Target_Anti-Stereotypical']\n",
    "\n",
    "    clean_df = pd.concat([df,targets_df],axis=1)\n",
    "\n",
    "    clean_df['Sentence'] = clean_df.apply(lambda x: mask_sentence(x['Stereotypical'],x['Target_Stereotypical']),axis=1)\n",
    "    clean_df['Sentence2'] = clean_df.apply(lambda x: mask_sentence(x['Anti-Stereotypical'],x['Target_Anti-Stereotypical']),axis=1)\n",
    "    \n",
    "    # These need to be manually checked\n",
    "    misaligned_mask.append(clean_df[clean_df['Sentence'] != clean_df['Sentence2']].index.values) \n",
    "    no_parse.append(clean_df[clean_df['Target_Stereotypical'].isnull()].index.values)\n",
    "    s_parsed.append(clean_df['Target_Stereotypical'].apply(lambda x: [i.lower() for i in x] if x else [None]).value_counts())\n",
    "    a_parsed.append(clean_df['Target_Anti-Stereotypical'].apply(lambda x: [i.lower() for i in x] if x else [None]).value_counts())\n",
    "\n",
    "    clean_df.drop(['Stereotypical','Anti-Stereotypical','Target_Stereo','Target_Antistereo'],inplace=True,axis=1)\n",
    "\n",
    "    filename = re.sub('.xlsx','.csv',filename)\n",
    "    clean_df.to_csv(filename)"
   ]
  },
  {
   "cell_type": "code",
   "execution_count": 103,
   "metadata": {},
   "outputs": [],
   "source": [
    "# manual inspections:\n",
    "# caste passed\n",
    "# gender passed\n",
    "# need to fix peacefule bug\n",
    "# need to fix couldnt/could bug\n",
    "# passed"
   ]
  },
  {
   "cell_type": "code",
   "execution_count": 106,
   "metadata": {},
   "outputs": [
    {
     "name": "stdout",
     "output_type": "stream",
     "text": [
      "Caste.xlsx []\n",
      "Gender.xlsx [ 45  92 140 144]\n",
      "India_Religious.xlsx [116]\n",
      "Race.xlsx [  0  12  19  25  34 121 229 230 296 323 329 330 349 359 364 377 378 383]\n",
      "US_Religious.xlsx [ 0 30 41 42 45 49 67 68 70]\n"
     ]
    }
   ],
   "source": [
    "for i,j in zip(filenames, misaligned_mask):\n",
    "    print(i,j)"
   ]
  },
  {
   "cell_type": "code",
   "execution_count": 114,
   "metadata": {},
   "outputs": [
    {
     "name": "stdout",
     "output_type": "stream",
     "text": [
      "Index(['Target_Stereotypical', 'Target_Anti-Stereotypical', 'Sentence'], dtype='object')\n",
      "Index(['Target_Stereotypical', 'Target_Anti-Stereotypical', 'Sentence'], dtype='object')\n",
      "Index(['Target_Stereotypical', 'Target_Anti-Stereotypical', 'Sentence'], dtype='object')\n",
      "Index(['Target_Stereotypical', 'Target_Anti-Stereotypical', 'Sentence'], dtype='object')\n",
      "Index(['Target_Stereotypical', 'Target_Anti-Stereotypical', 'Sentence'], dtype='object')\n"
     ]
    }
   ],
   "source": [
    "for filename in filenames:\n",
    "    filename = re.sub('.xlsx','.csv',filename)\n",
    "    df = pd.read_csv(filename,index_col=0)\n",
    "    df.drop('Sentence2',inplace=True,axis=1)\n",
    "    print(df.columns)\n",
    "    df.to_csv(filename)"
   ]
  }
 ],
 "metadata": {
  "kernelspec": {
   "display_name": "bhed",
   "language": "python",
   "name": "python3"
  },
  "language_info": {
   "codemirror_mode": {
    "name": "ipython",
    "version": 3
   },
   "file_extension": ".py",
   "mimetype": "text/x-python",
   "name": "python",
   "nbconvert_exporter": "python",
   "pygments_lexer": "ipython3",
   "version": "3.12.2"
  }
 },
 "nbformat": 4,
 "nbformat_minor": 2
}
